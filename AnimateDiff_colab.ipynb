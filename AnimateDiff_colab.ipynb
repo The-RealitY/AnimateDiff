{
  "cells": [
    {
      "cell_type": "code",
      "execution_count": null,
      "metadata": {
        "tags": [
          "Set Auth Key"
        ],
        "id": "msf2vGh2TKfe"
      },
      "outputs": [],
      "source": [
        "# @title Set AuthKey (Optional)\n",
        "# @markdown 1.This Cell is Optional.<br>2.This key is for authentication to upload generated art to Instagram.<br>3.Contact dev for key.\n",
        "\n",
        "import os\n",
        "os.environ[\"AUTHORIZATION-KEY\"]=\"\"\n",
        "print('Auth Key Setted...!')"
      ]
    },
    {
      "cell_type": "code",
      "execution_count": null,
      "metadata": {
        "tags": [
          "Prompt (Optional)"
        ],
        "id": "L-T2AJg_TKfl"
      },
      "outputs": [],
      "source": [
        "# @title Custom Prompt (Optional)\n",
        "# @markdown 1.This Cell is Optional.<br>2.You can Give your own prompt here else random will be choose from database.\n",
        "\n",
        "import os\n",
        "prompt = input(\"Enter Your Prompt:\")\n",
        "with open(os.path.join('/content','.prompt'),'w') as f:\n",
        "    f.write(prompt)\n",
        "    f.close()"
      ]
    },
    {
      "cell_type": "code",
      "execution_count": null,
      "metadata": {
        "id": "jTDVp9Cfb5rN",
        "tags": [
          "Generate Arts"
        ]
      },
      "outputs": [],
      "source": [
        "# @title Run To Generate Art\n",
        "# @markdown 1.Run this to generate arts and after successfull generation you will get link to download your art.\n",
        "\n",
        "!git clone https://github.com/The-RealitY/animatediff.git\n",
        "\n",
        "!apt -y install -qq aria2\n",
        "\n",
        "%cd /content/animatediff\n",
        "\n",
        "!rm -rf /content/animatediff/models/StableDiffusion\n",
        "!git clone -b fp16 https://huggingface.co/runwayml/stable-diffusion-v1-5 /content/animatediff/models/StableDiffusion/\n",
        "\n",
        "!aria2c --console-log-level=error -c -x 16 -s 16 -k 1M https://huggingface.co/camenduru/AnimateDiff/resolve/main/mm_sd_v14.ckpt -d /content/animatediff/models/Motion_Module -o mm_sd_v14.ckpt\n",
        "!aria2c --console-log-level=error -c -x 16 -s 16 -k 1M https://huggingface.co/camenduru/AnimateDiff/resolve/main/mm_sd_v15.ckpt -d /content/animatediff/models/Motion_Module -o mm_sd_v15.ckpt\n",
        "!aria2c --console-log-level=error -c -x 16 -s 16 -k 1M https://huggingface.co/camenduru/AnimateDiff/resolve/main/toonyou_beta3.safetensors -d /content/animatediff/models/DreamBooth_LoRA -o toonyou_beta3.safetensors\n",
        "\n",
        "%pip install omegaconf einops omegaconf safetensors diffusers[torch]==0.11.1 transformers xformers==0.0.20 triton==2.0.0 pandas datasets\n",
        "!python -m scripts.animate"
      ]
    }
  ],
  "metadata": {
    "accelerator": "GPU",
    "colab": {
      "gpuType": "T4",
      "provenance": []
    },
    "kernelspec": {
      "display_name": "Python 3",
      "name": "python3"
    },
    "language_info": {
      "codemirror_mode": {
        "name": "ipython",
        "version": 3
      },
      "file_extension": ".py",
      "mimetype": "text/x-python",
      "name": "python",
      "nbconvert_exporter": "python",
      "pygments_lexer": "ipython3",
      "version": "3.10.10"
    }
  },
  "nbformat": 4,
  "nbformat_minor": 0
}