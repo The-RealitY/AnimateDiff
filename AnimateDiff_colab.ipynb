{
  "cells": [
    {
      "cell_type": "code",
      "execution_count": null,
      "metadata": {
        "id": "msf2vGh2TKfe",
        "tags": [
          "Set Auth Key"
        ],
        "cellView": "form"
      },
      "outputs": [],
      "source": [
        "# @title Set AuthKey (Optional)\n",
        "# @markdown 1.This Cell is Optional.<br>2.This key is for authentication to upload generated art to Instagram.<br>3.Contact dev for key.\n",
        "authKey = \"\" # @param {type:\"string\"}\n",
        "import os\n",
        "os.environ[\"AUTHORIZATION-KEY\"]=authKey\n",
        "print('Auth Key Setted...!')"
      ]
    },
    {
      "cell_type": "code",
      "execution_count": null,
      "metadata": {
        "id": "L-T2AJg_TKfl",
        "tags": [
          "Prompt (Optional)"
        ],
        "cellView": "form"
      },
      "outputs": [],
      "source": [
        "# @title Custom Prompt (Optional)\n",
        "# @markdown 1.This Cell is Optional.<br>2.You can Give your own prompt here else random will be choose from database.\n",
        "\n",
        "import os\n",
        "prompt = \"\" # @param {type:\"string\"}\n",
        "with open(os.path.join('/content','.prompt'),'w') as f:\n",
        "    f.write(prompt)\n",
        "    f.close()\n",
        "print('Run Next Cell To Generate The Art For Given Prompt...!')"
      ]
    },
    {
      "cell_type": "code",
      "execution_count": null,
      "metadata": {
        "id": "jTDVp9Cfb5rN",
        "tags": [
          "Generate Arts"
        ],
        "cellView": "form"
      },
      "outputs": [],
      "source": [
        "# @title Run To Generate Art\n",
        "# @markdown 1.Run this to generate arts and after successfull generation you will get link to download your art.\n",
        "import os\n",
        "model = \"ToonYou\" # @param [\"ToonYou\", \"Lyriel\", \"RcnzCartoon\", \"MajicMix\", \"RealisticVision\", \"Tusun\", \"FilmVelvia\", \"GhibliBackground\"]\n",
        "os.environ[\"CONFIG-ID\"] = model\n",
        "!git clone https://github.com/The-RealitY/animatediff.git\n",
        "!apt -y install -qq aria2\n",
        "%cd /content/animatediff\n",
        "!rm -rf /content/animatediff/models/StableDiffusion\n",
        "!git clone -b fp16 https://huggingface.co/runwayml/stable-diffusion-v1-5 /content/animatediff/models/StableDiffusion/\n",
        "!chmod +x scripts/model.sh\n",
        "!. scripts/model.sh\n",
        "%pip install omegaconf einops omegaconf safetensors diffusers[torch]==0.11.1 transformers xformers==0.0.20 triton==2.0.0 pandas datasets\n",
        "!python -m scripts.animate"
      ]
    }
  ],
  "metadata": {
    "accelerator": "GPU",
    "colab": {
      "gpuType": "T4",
      "provenance": []
    },
    "kernelspec": {
      "display_name": "Python 3",
      "name": "python3"
    },
    "language_info": {
      "codemirror_mode": {
        "name": "ipython",
        "version": 3
      },
      "file_extension": ".py",
      "mimetype": "text/x-python",
      "name": "python",
      "nbconvert_exporter": "python",
      "pygments_lexer": "ipython3",
      "version": "3.10.10"
    }
  },
  "nbformat": 4,
  "nbformat_minor": 0
}